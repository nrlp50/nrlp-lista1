{
 "cells": [
  {
   "cell_type": "code",
   "execution_count": 815,
   "metadata": {
    "collapsed": true
   },
   "outputs": [],
   "source": [
    "import numpy as np\n",
    "import pandas as pd\n",
    "import matplotlib.pyplot as plt\n",
    "from random import randrange\n",
    "\n",
    "seed(90)"
   ]
  },
  {
   "cell_type": "markdown",
   "metadata": {},
   "source": [
    "## Pré-processando os Dados"
   ]
  },
  {
   "cell_type": "code",
   "execution_count": 816,
   "metadata": {},
   "outputs": [
    {
     "data": {
      "text/html": [
       "<div>\n",
       "<style>\n",
       "    .dataframe thead tr:only-child th {\n",
       "        text-align: right;\n",
       "    }\n",
       "\n",
       "    .dataframe thead th {\n",
       "        text-align: left;\n",
       "    }\n",
       "\n",
       "    .dataframe tbody tr th {\n",
       "        vertical-align: top;\n",
       "    }\n",
       "</style>\n",
       "<table border=\"1\" class=\"dataframe\">\n",
       "  <thead>\n",
       "    <tr style=\"text-align: right;\">\n",
       "      <th></th>\n",
       "      <th>loc</th>\n",
       "      <th>v(g)</th>\n",
       "      <th>ev(g)</th>\n",
       "      <th>iv(g)</th>\n",
       "      <th>n</th>\n",
       "      <th>v</th>\n",
       "      <th>l</th>\n",
       "      <th>d</th>\n",
       "      <th>i</th>\n",
       "      <th>e</th>\n",
       "      <th>...</th>\n",
       "      <th>lOCode</th>\n",
       "      <th>lOComment</th>\n",
       "      <th>lOBlank</th>\n",
       "      <th>locCodeAndComment</th>\n",
       "      <th>uniq_Op</th>\n",
       "      <th>uniq_Opnd</th>\n",
       "      <th>total_Op</th>\n",
       "      <th>total_Opnd</th>\n",
       "      <th>branchCount</th>\n",
       "      <th>defects</th>\n",
       "    </tr>\n",
       "  </thead>\n",
       "  <tbody>\n",
       "    <tr>\n",
       "      <th>0</th>\n",
       "      <td>1.1</td>\n",
       "      <td>1.4</td>\n",
       "      <td>1.4</td>\n",
       "      <td>1.4</td>\n",
       "      <td>1.3</td>\n",
       "      <td>1.30</td>\n",
       "      <td>1.30</td>\n",
       "      <td>1.30</td>\n",
       "      <td>1.30</td>\n",
       "      <td>1.30</td>\n",
       "      <td>...</td>\n",
       "      <td>2</td>\n",
       "      <td>2</td>\n",
       "      <td>2</td>\n",
       "      <td>2</td>\n",
       "      <td>1.2</td>\n",
       "      <td>1.2</td>\n",
       "      <td>1.2</td>\n",
       "      <td>1.2</td>\n",
       "      <td>1.4</td>\n",
       "      <td>False</td>\n",
       "    </tr>\n",
       "    <tr>\n",
       "      <th>1</th>\n",
       "      <td>1.0</td>\n",
       "      <td>1.0</td>\n",
       "      <td>1.0</td>\n",
       "      <td>1.0</td>\n",
       "      <td>1.0</td>\n",
       "      <td>1.00</td>\n",
       "      <td>1.00</td>\n",
       "      <td>1.00</td>\n",
       "      <td>1.00</td>\n",
       "      <td>1.00</td>\n",
       "      <td>...</td>\n",
       "      <td>1</td>\n",
       "      <td>1</td>\n",
       "      <td>1</td>\n",
       "      <td>1</td>\n",
       "      <td>1.0</td>\n",
       "      <td>1.0</td>\n",
       "      <td>1.0</td>\n",
       "      <td>1.0</td>\n",
       "      <td>1.0</td>\n",
       "      <td>True</td>\n",
       "    </tr>\n",
       "    <tr>\n",
       "      <th>2</th>\n",
       "      <td>83.0</td>\n",
       "      <td>11.0</td>\n",
       "      <td>1.0</td>\n",
       "      <td>11.0</td>\n",
       "      <td>171.0</td>\n",
       "      <td>927.89</td>\n",
       "      <td>0.04</td>\n",
       "      <td>23.04</td>\n",
       "      <td>40.27</td>\n",
       "      <td>21378.61</td>\n",
       "      <td>...</td>\n",
       "      <td>65</td>\n",
       "      <td>10</td>\n",
       "      <td>6</td>\n",
       "      <td>0</td>\n",
       "      <td>18.0</td>\n",
       "      <td>25.0</td>\n",
       "      <td>107.0</td>\n",
       "      <td>64.0</td>\n",
       "      <td>21.0</td>\n",
       "      <td>True</td>\n",
       "    </tr>\n",
       "    <tr>\n",
       "      <th>3</th>\n",
       "      <td>46.0</td>\n",
       "      <td>8.0</td>\n",
       "      <td>6.0</td>\n",
       "      <td>8.0</td>\n",
       "      <td>141.0</td>\n",
       "      <td>769.78</td>\n",
       "      <td>0.07</td>\n",
       "      <td>14.86</td>\n",
       "      <td>51.81</td>\n",
       "      <td>11436.73</td>\n",
       "      <td>...</td>\n",
       "      <td>37</td>\n",
       "      <td>2</td>\n",
       "      <td>5</td>\n",
       "      <td>0</td>\n",
       "      <td>16.0</td>\n",
       "      <td>28.0</td>\n",
       "      <td>89.0</td>\n",
       "      <td>52.0</td>\n",
       "      <td>15.0</td>\n",
       "      <td>True</td>\n",
       "    </tr>\n",
       "    <tr>\n",
       "      <th>4</th>\n",
       "      <td>25.0</td>\n",
       "      <td>3.0</td>\n",
       "      <td>1.0</td>\n",
       "      <td>3.0</td>\n",
       "      <td>58.0</td>\n",
       "      <td>254.75</td>\n",
       "      <td>0.11</td>\n",
       "      <td>9.35</td>\n",
       "      <td>27.25</td>\n",
       "      <td>2381.95</td>\n",
       "      <td>...</td>\n",
       "      <td>21</td>\n",
       "      <td>0</td>\n",
       "      <td>2</td>\n",
       "      <td>0</td>\n",
       "      <td>11.0</td>\n",
       "      <td>10.0</td>\n",
       "      <td>41.0</td>\n",
       "      <td>17.0</td>\n",
       "      <td>5.0</td>\n",
       "      <td>True</td>\n",
       "    </tr>\n",
       "  </tbody>\n",
       "</table>\n",
       "<p>5 rows × 22 columns</p>\n",
       "</div>"
      ],
      "text/plain": [
       "    loc  v(g)  ev(g)  iv(g)      n       v     l      d      i         e  \\\n",
       "0   1.1   1.4    1.4    1.4    1.3    1.30  1.30   1.30   1.30      1.30   \n",
       "1   1.0   1.0    1.0    1.0    1.0    1.00  1.00   1.00   1.00      1.00   \n",
       "2  83.0  11.0    1.0   11.0  171.0  927.89  0.04  23.04  40.27  21378.61   \n",
       "3  46.0   8.0    6.0    8.0  141.0  769.78  0.07  14.86  51.81  11436.73   \n",
       "4  25.0   3.0    1.0    3.0   58.0  254.75  0.11   9.35  27.25   2381.95   \n",
       "\n",
       "    ...     lOCode  lOComment  lOBlank  locCodeAndComment  uniq_Op  uniq_Opnd  \\\n",
       "0   ...          2          2        2                  2      1.2        1.2   \n",
       "1   ...          1          1        1                  1      1.0        1.0   \n",
       "2   ...         65         10        6                  0     18.0       25.0   \n",
       "3   ...         37          2        5                  0     16.0       28.0   \n",
       "4   ...         21          0        2                  0     11.0       10.0   \n",
       "\n",
       "   total_Op  total_Opnd  branchCount  defects  \n",
       "0       1.2         1.2          1.4    False  \n",
       "1       1.0         1.0          1.0     True  \n",
       "2     107.0        64.0         21.0     True  \n",
       "3      89.0        52.0         15.0     True  \n",
       "4      41.0        17.0          5.0     True  \n",
       "\n",
       "[5 rows x 22 columns]"
      ]
     },
     "execution_count": 816,
     "metadata": {},
     "output_type": "execute_result"
    }
   ],
   "source": [
    "kc1 = pd.read_csv('KC1.csv')\n",
    "\n",
    "kc1.head()"
   ]
  },
  {
   "cell_type": "code",
   "execution_count": 817,
   "metadata": {},
   "outputs": [],
   "source": [
    "kc1['defects'] = kc1['defects'].astype('int64')\n",
    "# kc1 = (kc1 - kc1.min())/(kc1.max() - kc1.min())"
   ]
  },
  {
   "cell_type": "code",
   "execution_count": 818,
   "metadata": {},
   "outputs": [],
   "source": [
    "kc1_list = kc1.values.tolist()\n",
    "\n",
    "for i, val in enumerate(kc1_list):\n",
    "    kc1_list[i] = tuple(val)"
   ]
  },
  {
   "cell_type": "markdown",
   "metadata": {},
   "source": [
    "## Implementação do Algoritmo KNN"
   ]
  },
  {
   "cell_type": "code",
   "execution_count": 819,
   "metadata": {},
   "outputs": [],
   "source": [
    "def euclidean_distance(x,y):\n",
    "    ret = 0\n",
    "    w = list(zip(x,y))\n",
    "    w.pop()\n",
    "    for a,b in w:\n",
    "        ret += (a-b)**2\n",
    "\n",
    "    return (ret, int(x[-1]))"
   ]
  },
  {
   "cell_type": "code",
   "execution_count": 820,
   "metadata": {},
   "outputs": [],
   "source": [
    "def knn(k,x,query,weighted,distance_function, n_class):\n",
    "    distance = [ distance_function(i, query) for i in x ]\n",
    "    distance = sorted(distance, key=lambda z: z[0])\n",
    "    votes = [0] * n_class\n",
    "    for i in range(k):\n",
    "        if int(distance[i][0]) == 0:\n",
    "            return distance[i][1]\n",
    "            \n",
    "        if weighted == 1:\n",
    "            votes[ distance[i][1] ] += 1.0/distance[i][0]\n",
    "        else: votes[ distance[i][1] ] += 1\n",
    "    \n",
    "    if(votes[1] > votes[0]): #alterar para n classes\n",
    "        return 1\n",
    "    else: return 0\n",
    "    "
   ]
  },
  {
   "cell_type": "markdown",
   "metadata": {},
   "source": [
    "## Cross Validation Implementação"
   ]
  },
  {
   "cell_type": "code",
   "execution_count": 821,
   "metadata": {
    "collapsed": true
   },
   "outputs": [],
   "source": [
    "def train_test_split(data,split=0.70):\n",
    "    test_size = int((1-split) * len(data))\n",
    "    test = []\n",
    "    for i in range(test_size):\n",
    "        index = randrange(len(data))\n",
    "        test.append(data.pop(index))\n",
    "    return data, test"
   ]
  },
  {
   "cell_type": "code",
   "execution_count": 822,
   "metadata": {},
   "outputs": [],
   "source": [
    "def cross_validation_k_fold(k, train):\n",
    "    fold_size = int(len(train)/k)\n",
    "    fold_set = []\n",
    "    for i in range(k-1):\n",
    "        fold = []\n",
    "        for j in range(fold_size):\n",
    "            index = randrange(len(train))\n",
    "            fold.append(train.pop(index))\n",
    "        fold_set.append(fold)\n",
    "    fold_set.append(train)\n",
    "    return fold_set"
   ]
  },
  {
   "cell_type": "markdown",
   "metadata": {},
   "source": [
    "## Avaliando o algoritmo KNN com peso e sem peso"
   ]
  },
  {
   "cell_type": "code",
   "execution_count": 916,
   "metadata": {
    "collapsed": true
   },
   "outputs": [],
   "source": [
    "def plot_(accuracy,K,ax):\n",
    "    x,y = zip(*accuracy)\n",
    "    ax.plot(K,x,'r-',label='weighted')\n",
    "    ax.plot(K,y,'b-',label='not weighted')\n",
    "    ax.legend()\n",
    "    plt.xlabel('K')\n",
    "    plt.ylabel('accuracy')\n"
   ]
  },
  {
   "cell_type": "code",
   "execution_count": 824,
   "metadata": {
    "scrolled": true
   },
   "outputs": [],
   "source": [
    "from random import seed\n",
    "K = [1,2,3,5,7,9,11,13,15]\n",
    "\n",
    "\n",
    "\n",
    "def concatenate(foldset,index):\n",
    "    ret = []\n",
    "    for i, x in enumerate(foldset):\n",
    "        if i != index:\n",
    "            ret += x\n",
    "    return ret\n",
    "\n",
    "\n",
    "def eval_model(train, distance_function, num_folds):\n",
    "\n",
    "    accuracy = []\n",
    "    foldset = cross_validation_k_fold(num_folds, train.copy())\n",
    "    for k in K:\n",
    "        folds_accuracy = []\n",
    "        for i in range(num_folds):\n",
    "            weighted = 0\n",
    "            not_weighted = 0\n",
    "            trainset = concatenate(foldset.copy(),i)\n",
    "            for j in foldset[i]:\n",
    "                weighted += 1 if knn(k, trainset.copy(),j, 1, distance_function, 2) == int(j[-1]) else 0\n",
    "                not_weighted += 1 if knn(k, trainset.copy(),j, 0, distance_function, 2) == int(j[-1]) else 0\n",
    "\n",
    "            folds_accuracy.append((weighted/len(foldset[i]), not_weighted/len(foldset[i])))\n",
    "\n",
    "        weighted = not_weighted = 0\n",
    "\n",
    "        for i,j in folds_accuracy:\n",
    "            weighted += i\n",
    "            not_weighted += j\n",
    "\n",
    "        accuracy.append((weighted/num_folds, not_weighted/num_folds))\n",
    "        \n",
    "    return accuracy\n"
   ]
  },
  {
   "cell_type": "code",
   "execution_count": 825,
   "metadata": {},
   "outputs": [],
   "source": [
    "def predict(train, test, distance_function):\n",
    "    accuracy = []\n",
    "    for k in K:\n",
    "        weighted = 0\n",
    "        not_weighted = 0\n",
    "        for i in test:\n",
    "            weighted += 1 if knn(k, train.copy(),i, 1, distance_function,2) == int(i[-1]) else 0\n",
    "            not_weighted += 1 if knn(k, train.copy(),i, 0, distance_function,2) == int(i[-1]) else 0\n",
    "        accuracy.append((weighted/len(test), not_weighted/len(test)))\n",
    "\n",
    "    return accuracy"
   ]
  },
  {
   "cell_type": "code",
   "execution_count": 826,
   "metadata": {},
   "outputs": [],
   "source": [
    "train, test = train_test_split(kc1_list.copy())\n",
    "accuracy1 = eval_model(train, euclidean_distance, 10)"
   ]
  },
  {
   "cell_type": "code",
   "execution_count": 827,
   "metadata": {
    "collapsed": true
   },
   "outputs": [],
   "source": [
    "cm1 = pd.read_csv('CM1.csv')\n",
    "cm1['defects'] = cm1['defects'].astype('int64')\n",
    "cm1_list = cm1.values.tolist()\n",
    "\n",
    "for i, val in enumerate(cm1_list):\n",
    "    cm1_list[i] = tuple(val)"
   ]
  },
  {
   "cell_type": "code",
   "execution_count": 828,
   "metadata": {},
   "outputs": [],
   "source": [
    "train, test = train_test_split(cm1_list.copy())\n",
    "accuracy2 = eval_model(train, euclidean_distance, 10)"
   ]
  },
  {
   "cell_type": "code",
   "execution_count": 921,
   "metadata": {},
   "outputs": [
    {
     "data": {
      "image/png": "[encoded data removed]",
      "text/plain": [
       "<matplotlib.figure.Figure at 0x1184fac18>"
      ]
     },
     "metadata": {},
     "output_type": "display_data"
    }
   ],
   "source": [
    "f = plt.figure(figsize=(12,5))\n",
    "ax = f.add_subplot(121)\n",
    "ax2 = f.add_subplot(122)\n",
    "plot_(accuracy1,K, ax)\n",
    "plot_(accuracy2,K, ax2)\n",
    "plt.show()"
   ]
  },
  {
   "cell_type": "markdown",
   "metadata": {},
   "source": [
    "# Questão 2\n",
    "\n",
    "\n",
    "# VDM"
   ]
  },
  {
   "cell_type": "code",
   "execution_count": 899,
   "metadata": {},
   "outputs": [],
   "source": [
    "def foo(df,num_class):\n",
    "    attrs = list(df.columns.values)\n",
    "    attrs.pop()\n",
    "\n",
    "    N = {}\n",
    "    for i, val in enumerate(attrs):\n",
    "        N[i] = {}\n",
    "        a = df[val].unique()\n",
    "        for j in a:\n",
    "            N[i][j] = [0]  * num_class\n",
    "\n",
    "    \n",
    "    for x in df.itertuples():\n",
    "        for i in range(len(attrs)):\n",
    "            N[i][x[i]][x[-1]] += 1\n",
    "            \n",
    "    return N"
   ]
  },
  {
   "cell_type": "code",
   "execution_count": 900,
   "metadata": {
    "collapsed": true
   },
   "outputs": [],
   "source": [
    "def vdm(i,a,b,classes_list,N):\n",
    "    classes_list.pop()\n",
    "    ret = 0\n",
    "    for c,val in enumerate(classes_list):\n",
    "        p1 = N[i][a][c] / sum(N[i][a])\n",
    "        p2 = N[i][b][c] / sum(N[i][b])\n",
    "        ret += abs(p1 - p2)\n",
    "        \n",
    "    return ret"
   ]
  },
  {
   "cell_type": "code",
   "execution_count": 901,
   "metadata": {
    "collapsed": true
   },
   "outputs": [],
   "source": [
    "def VDM(a,b,classes_list,N):\n",
    "    w = list(zip(a,b))\n",
    "    ret = 0\n",
    "    for i,x,y in w:\n",
    "        ret += vdm(i,x,y,classes_list,N)\n",
    "        \n",
    "    return ret"
   ]
  }
 ],
 "metadata": {
  "kernelspec": {
   "display_name": "Python 3",
   "language": "python",
   "name": "python3"
  },
  "language_info": {
   "codemirror_mode": {
    "name": "ipython",
    "version": 3
   },
   "file_extension": ".py",
   "mimetype": "text/x-python",
   "name": "python",
   "nbconvert_exporter": "python",
   "pygments_lexer": "ipython3",
   "version": "3.6.1"
  }
 },
 "nbformat": 4,
 "nbformat_minor": 2
}
