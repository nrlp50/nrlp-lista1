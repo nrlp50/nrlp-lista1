{
 "cells": [
  {
   "cell_type": "code",
   "execution_count": 546,
   "metadata": {
    "collapsed": true
   },
   "outputs": [],
   "source": [
    "import numpy as np\n",
    "import pandas as pd\n",
    "import matplotlib.pyplot as plt\n",
    "from random import randrange\n",
    "from random import seed\n",
    "import operator\n",
    "seed(90)"
   ]
  },
  {
   "cell_type": "markdown",
   "metadata": {},
   "source": [
    "## Pré-processando os Dados"
   ]
  },
  {
   "cell_type": "code",
   "execution_count": 547,
   "metadata": {},
   "outputs": [
    {
     "data": {
      "text/html": [
       "<div>\n",
       "<style>\n",
       "    .dataframe thead tr:only-child th {\n",
       "        text-align: right;\n",
       "    }\n",
       "\n",
       "    .dataframe thead th {\n",
       "        text-align: left;\n",
       "    }\n",
       "\n",
       "    .dataframe tbody tr th {\n",
       "        vertical-align: top;\n",
       "    }\n",
       "</style>\n",
       "<table border=\"1\" class=\"dataframe\">\n",
       "  <thead>\n",
       "    <tr style=\"text-align: right;\">\n",
       "      <th></th>\n",
       "      <th>loc</th>\n",
       "      <th>v(g)</th>\n",
       "      <th>ev(g)</th>\n",
       "      <th>iv(g)</th>\n",
       "      <th>n</th>\n",
       "      <th>v</th>\n",
       "      <th>l</th>\n",
       "      <th>d</th>\n",
       "      <th>i</th>\n",
       "      <th>e</th>\n",
       "      <th>...</th>\n",
       "      <th>lOCode</th>\n",
       "      <th>lOComment</th>\n",
       "      <th>lOBlank</th>\n",
       "      <th>locCodeAndComment</th>\n",
       "      <th>uniq_Op</th>\n",
       "      <th>uniq_Opnd</th>\n",
       "      <th>total_Op</th>\n",
       "      <th>total_Opnd</th>\n",
       "      <th>branchCount</th>\n",
       "      <th>defects</th>\n",
       "    </tr>\n",
       "  </thead>\n",
       "  <tbody>\n",
       "    <tr>\n",
       "      <th>0</th>\n",
       "      <td>1.1</td>\n",
       "      <td>1.4</td>\n",
       "      <td>1.4</td>\n",
       "      <td>1.4</td>\n",
       "      <td>1.3</td>\n",
       "      <td>1.30</td>\n",
       "      <td>1.30</td>\n",
       "      <td>1.30</td>\n",
       "      <td>1.30</td>\n",
       "      <td>1.30</td>\n",
       "      <td>...</td>\n",
       "      <td>2</td>\n",
       "      <td>2</td>\n",
       "      <td>2</td>\n",
       "      <td>2</td>\n",
       "      <td>1.2</td>\n",
       "      <td>1.2</td>\n",
       "      <td>1.2</td>\n",
       "      <td>1.2</td>\n",
       "      <td>1.4</td>\n",
       "      <td>False</td>\n",
       "    </tr>\n",
       "    <tr>\n",
       "      <th>1</th>\n",
       "      <td>1.0</td>\n",
       "      <td>1.0</td>\n",
       "      <td>1.0</td>\n",
       "      <td>1.0</td>\n",
       "      <td>1.0</td>\n",
       "      <td>1.00</td>\n",
       "      <td>1.00</td>\n",
       "      <td>1.00</td>\n",
       "      <td>1.00</td>\n",
       "      <td>1.00</td>\n",
       "      <td>...</td>\n",
       "      <td>1</td>\n",
       "      <td>1</td>\n",
       "      <td>1</td>\n",
       "      <td>1</td>\n",
       "      <td>1.0</td>\n",
       "      <td>1.0</td>\n",
       "      <td>1.0</td>\n",
       "      <td>1.0</td>\n",
       "      <td>1.0</td>\n",
       "      <td>True</td>\n",
       "    </tr>\n",
       "    <tr>\n",
       "      <th>2</th>\n",
       "      <td>83.0</td>\n",
       "      <td>11.0</td>\n",
       "      <td>1.0</td>\n",
       "      <td>11.0</td>\n",
       "      <td>171.0</td>\n",
       "      <td>927.89</td>\n",
       "      <td>0.04</td>\n",
       "      <td>23.04</td>\n",
       "      <td>40.27</td>\n",
       "      <td>21378.61</td>\n",
       "      <td>...</td>\n",
       "      <td>65</td>\n",
       "      <td>10</td>\n",
       "      <td>6</td>\n",
       "      <td>0</td>\n",
       "      <td>18.0</td>\n",
       "      <td>25.0</td>\n",
       "      <td>107.0</td>\n",
       "      <td>64.0</td>\n",
       "      <td>21.0</td>\n",
       "      <td>True</td>\n",
       "    </tr>\n",
       "    <tr>\n",
       "      <th>3</th>\n",
       "      <td>46.0</td>\n",
       "      <td>8.0</td>\n",
       "      <td>6.0</td>\n",
       "      <td>8.0</td>\n",
       "      <td>141.0</td>\n",
       "      <td>769.78</td>\n",
       "      <td>0.07</td>\n",
       "      <td>14.86</td>\n",
       "      <td>51.81</td>\n",
       "      <td>11436.73</td>\n",
       "      <td>...</td>\n",
       "      <td>37</td>\n",
       "      <td>2</td>\n",
       "      <td>5</td>\n",
       "      <td>0</td>\n",
       "      <td>16.0</td>\n",
       "      <td>28.0</td>\n",
       "      <td>89.0</td>\n",
       "      <td>52.0</td>\n",
       "      <td>15.0</td>\n",
       "      <td>True</td>\n",
       "    </tr>\n",
       "    <tr>\n",
       "      <th>4</th>\n",
       "      <td>25.0</td>\n",
       "      <td>3.0</td>\n",
       "      <td>1.0</td>\n",
       "      <td>3.0</td>\n",
       "      <td>58.0</td>\n",
       "      <td>254.75</td>\n",
       "      <td>0.11</td>\n",
       "      <td>9.35</td>\n",
       "      <td>27.25</td>\n",
       "      <td>2381.95</td>\n",
       "      <td>...</td>\n",
       "      <td>21</td>\n",
       "      <td>0</td>\n",
       "      <td>2</td>\n",
       "      <td>0</td>\n",
       "      <td>11.0</td>\n",
       "      <td>10.0</td>\n",
       "      <td>41.0</td>\n",
       "      <td>17.0</td>\n",
       "      <td>5.0</td>\n",
       "      <td>True</td>\n",
       "    </tr>\n",
       "  </tbody>\n",
       "</table>\n",
       "<p>5 rows × 22 columns</p>\n",
       "</div>"
      ],
      "text/plain": [
       "    loc  v(g)  ev(g)  iv(g)      n       v     l      d      i         e  \\\n",
       "0   1.1   1.4    1.4    1.4    1.3    1.30  1.30   1.30   1.30      1.30   \n",
       "1   1.0   1.0    1.0    1.0    1.0    1.00  1.00   1.00   1.00      1.00   \n",
       "2  83.0  11.0    1.0   11.0  171.0  927.89  0.04  23.04  40.27  21378.61   \n",
       "3  46.0   8.0    6.0    8.0  141.0  769.78  0.07  14.86  51.81  11436.73   \n",
       "4  25.0   3.0    1.0    3.0   58.0  254.75  0.11   9.35  27.25   2381.95   \n",
       "\n",
       "    ...     lOCode  lOComment  lOBlank  locCodeAndComment  uniq_Op  uniq_Opnd  \\\n",
       "0   ...          2          2        2                  2      1.2        1.2   \n",
       "1   ...          1          1        1                  1      1.0        1.0   \n",
       "2   ...         65         10        6                  0     18.0       25.0   \n",
       "3   ...         37          2        5                  0     16.0       28.0   \n",
       "4   ...         21          0        2                  0     11.0       10.0   \n",
       "\n",
       "   total_Op  total_Opnd  branchCount  defects  \n",
       "0       1.2         1.2          1.4    False  \n",
       "1       1.0         1.0          1.0     True  \n",
       "2     107.0        64.0         21.0     True  \n",
       "3      89.0        52.0         15.0     True  \n",
       "4      41.0        17.0          5.0     True  \n",
       "\n",
       "[5 rows x 22 columns]"
      ]
     },
     "execution_count": 547,
     "metadata": {},
     "output_type": "execute_result"
    }
   ],
   "source": [
    "K = [1,2,3,5,7,9,11,13,15]\n",
    "\n",
    "kc1 = pd.read_csv('KC1.csv')\n",
    "cm1 = pd.read_csv('CM1.csv')\n",
    "kc1.head()"
   ]
  },
  {
   "cell_type": "code",
   "execution_count": 548,
   "metadata": {
    "collapsed": true
   },
   "outputs": [],
   "source": [
    "kc1 = (kc1 - kc1.min())/(kc1.max() - kc1.min())\n",
    "cm1 = (cm1 - cm1.min())/(cm1.max() - cm1.min())"
   ]
  },
  {
   "cell_type": "markdown",
   "metadata": {},
   "source": [
    "## Implementação do Algoritmo KNN"
   ]
  },
  {
   "cell_type": "code",
   "execution_count": 549,
   "metadata": {
    "collapsed": true
   },
   "outputs": [],
   "source": [
    "def euclidean_distance(x,y):\n",
    "    ret = 0\n",
    "    w = list(zip(x,y))\n",
    "\n",
    "    for a,b in w:\n",
    "        ret += (a-b)**2\n",
    "\n",
    "    return ret"
   ]
  },
  {
   "cell_type": "code",
   "execution_count": 550,
   "metadata": {
    "collapsed": true
   },
   "outputs": [],
   "source": [
    "import operator\n",
    "\n",
    "def knn(k, X, y, distance_function, *args):\n",
    "    \n",
    "    distance = [ ( distance_function( x,*args), y[i]) for i,x in enumerate(X)]\n",
    "    \n",
    "    distance = sorted(distance, key=operator.itemgetter(0))\n",
    "    votes = {}\n",
    "    votes_w = {}\n",
    "        \n",
    "    for i in range(k):\n",
    "        t_class = distance[i][1]\n",
    "        \n",
    "        if(distance[i][0] == 0):\n",
    "            return t_class, t_class\n",
    "            \n",
    "        try:\n",
    "            votes[t_class] += 1\n",
    "            votes_w[t_class] += 1 / distance[i][0]    \n",
    "        except:\n",
    "            votes[t_class] = 1\n",
    "            votes_w[t_class] = 1 / distance[i][0]\n",
    "    \n",
    "        \n",
    "    predicted_class = max(votes.items(), key=operator.itemgetter(1))[0]\n",
    "    predicted_class_w = max(votes_w.items(), key=operator.itemgetter(1))[0]\n",
    "    \n",
    "    return predicted_class, predicted_class_w"
   ]
  },
  {
   "cell_type": "code",
   "execution_count": 551,
   "metadata": {
    "collapsed": true
   },
   "outputs": [],
   "source": [
    "def predict(k, X_train, y_train, X_test, y_test):\n",
    "    \n",
    "    ret_list = []\n",
    "    for i, x in enumerate(X_test):\n",
    "        y1, y_weighted = knn(k, X_train, y_train, euclidean_distance, x)\n",
    "        ret_list.append((y1, y_weighted, y_test[i]))\n",
    "    \n",
    "    return ret_list"
   ]
  },
  {
   "cell_type": "code",
   "execution_count": 552,
   "metadata": {
    "collapsed": true
   },
   "outputs": [],
   "source": [
    "def get_accuracy(t_list):\n",
    "    not_weighted = 0\n",
    "    weighted = 0\n",
    "    for x,y,z in t_list:\n",
    "        if x == z:\n",
    "            not_weighted += 1\n",
    "        if y == z:\n",
    "            weighted += 1\n",
    "    return not_weighted/len(t_list), weighted/len(t_list)"
   ]
  },
  {
   "cell_type": "code",
   "execution_count": 553,
   "metadata": {
    "collapsed": true
   },
   "outputs": [],
   "source": [
    "def accuracy_mean(l):\n",
    "    mean1 = 0\n",
    "    mean2 = 0\n",
    "    for x,y in l:\n",
    "        mean1 += x\n",
    "        mean2 += y\n",
    "    \n",
    "    return mean1 / len(l), mean2 / len(l)"
   ]
  },
  {
   "cell_type": "code",
   "execution_count": 554,
   "metadata": {
    "collapsed": true
   },
   "outputs": [],
   "source": [
    "from sklearn.model_selection import StratifiedKFold\n",
    "\n",
    "\n",
    "def eval_model(k, X, y, predict):\n",
    "\n",
    "    skf = StratifiedKFold(n_splits=5)\n",
    "    \n",
    "    ret_list = []\n",
    "    for train_index, test_index in skf.split(X,y):\n",
    "        \n",
    "        X_train, X_test = X.iloc[train_index], X.iloc[test_index]\n",
    "        y_train, y_test = y.iloc[train_index], y.iloc[test_index]\n",
    "        \n",
    "        X_train = list(X_train.itertuples(index=False))\n",
    "        X_test = list(X_test.itertuples(index=False))\n",
    "        y_train = list(y_train)\n",
    "        y_test = list(y_test)\n",
    "        \n",
    "        t_list = predict(k, X_train, y_train, X_test, y_test)\n",
    "        accuracy, accuracy_w = get_accuracy(t_list)\n",
    "        ret_list.append((accuracy, accuracy_w))\n",
    "    \n",
    "    \n",
    "    return accuracy_mean(ret_list)"
   ]
  },
  {
   "cell_type": "code",
   "execution_count": 555,
   "metadata": {
    "collapsed": true
   },
   "outputs": [],
   "source": [
    "def start_knn_k_fold(train, predict):\n",
    "       \n",
    "    target = list(train)[-1]\n",
    "    X = train.drop(target, axis = 1)\n",
    "    y = train[target]\n",
    "    \n",
    "    ret_list = []\n",
    "    for k in K:\n",
    "        ret_list.append(eval_model(k,X,y,predict))\n",
    "        \n",
    "    return ret_list"
   ]
  },
  {
   "cell_type": "code",
   "execution_count": 556,
   "metadata": {
    "collapsed": true
   },
   "outputs": [],
   "source": [
    "def plot_(accuracy, ax):\n",
    "    x,y = zip(*accuracy)\n",
    "    ax.plot( K , y,'r-',label='weighted')\n",
    "    ax.plot( K , x,'b-',label='not weighted')\n",
    "    ax.legend()\n",
    "    ax.set_xlabel('K')\n",
    "    ax.set_ylabel('accuracy')"
   ]
  },
  {
   "cell_type": "code",
   "execution_count": null,
   "metadata": {
    "collapsed": true
   },
   "outputs": [],
   "source": [
    "accuracy = start_knn_k_fold(kc1,predict)\n",
    "accuracy2 = start_knn_k_fold(cm1,predict)"
   ]
  },
  {
   "cell_type": "code",
   "execution_count": 557,
   "metadata": {
    "scrolled": true
   },
   "outputs": [
    {
     "data": {
      "image/png": "[encoded data removed]",
      "text/plain": [
       "<matplotlib.figure.Figure at 0x1184004e0>"
      ]
     },
     "metadata": {},
     "output_type": "display_data"
    }
   ],
   "source": [
    "f = plt.figure(figsize=(12,5))\n",
    "ax = f.add_subplot(121)\n",
    "ax2 = f.add_subplot(122)\n",
    "plot_(accuracy,ax)\n",
    "plot_(accuracy2,ax2)\n",
    "plt.show()"
   ]
  },
  {
   "cell_type": "markdown",
   "metadata": {},
   "source": [
    "# Questão 2\n",
    "\n",
    "# KNN com dados categóricos"
   ]
  },
  {
   "cell_type": "code",
   "execution_count": 558,
   "metadata": {},
   "outputs": [],
   "source": [
    "tic_tac = pd.read_csv('tic-tac-toe.csv')\n",
    "car_evaluation = pd.read_csv('car_evaluation.csv')\n",
    "\n",
    "tic_tac['class'] = tic_tac['class'].astype('category').cat.codes\n",
    "tic_tac['class'] = tic_tac['class'].astype('int64')\n",
    "car_evaluation['class'] = car_evaluation['class'].astype('category').cat.codes\n",
    "car_evaluation['class'] = car_evaluation['class'].astype('int64')"
   ]
  },
  {
   "cell_type": "code",
   "execution_count": 559,
   "metadata": {},
   "outputs": [],
   "source": [
    "def foo(df,y):\n",
    "    attrs = list(df)\n",
    "    N = {}\n",
    "    n_class = len(pd.Series(y).unique())\n",
    "    \n",
    "    for i, val in enumerate(attrs):\n",
    "        N[i] = {}\n",
    "        a = df[val].unique()\n",
    "        for j in a:\n",
    "            N[i][j] = [0] * n_class\n",
    "    \n",
    "\n",
    "    for j,x in enumerate(df.itertuples(index=False)):\n",
    "        for i in range(len(attrs)):\n",
    "            if not pd.isnull(x[i]):\n",
    "                N[i][x[i]][y[j]] += 1\n",
    "                \n",
    "    return N"
   ]
  },
  {
   "cell_type": "code",
   "execution_count": 560,
   "metadata": {
    "collapsed": true
   },
   "outputs": [],
   "source": [
    "def vdm(i,a,b,classes_list,N):\n",
    "    ret = 0\n",
    "    \n",
    "    if b not in N[i]:\n",
    "        return len(classes_list)   \n",
    "    \n",
    "    for c in classes_list:    \n",
    "        p1 = float(N[i][a][c]) / sum(N[i][a])\n",
    "        p2 = float(N[i][b][c]) / sum(N[i][b])\n",
    "        ret += abs(p1 - p2)\n",
    "    \n",
    "    return ret"
   ]
  },
  {
   "cell_type": "code",
   "execution_count": 561,
   "metadata": {
    "collapsed": true
   },
   "outputs": [],
   "source": [
    "def VDM(a,b,classes_list,N):\n",
    "    w = list(zip(a,b))\n",
    "    ret = 0\n",
    "    for i,(x,y) in enumerate(w):\n",
    "        ret += vdm(i,x,y,classes_list,N)\n",
    "        \n",
    "    return ret"
   ]
  },
  {
   "cell_type": "code",
   "execution_count": 562,
   "metadata": {
    "collapsed": true
   },
   "outputs": [],
   "source": [
    "def predict_vdm(k, X_train, y_train, X_test, y_test):\n",
    "    df = pd.DataFrame(X_train)\n",
    "    N = foo(df,y_train)\n",
    "    classes_list = pd.Series(y_train).unique()\n",
    "    ret_list = []\n",
    "    for i, x in enumerate(X_test):\n",
    "        y1, y_weighted = knn(k, X_train, y_train, VDM, x, classes_list, N)\n",
    "        ret_list.append((y1,y_weighted,y_test[i]))\n",
    "    return ret_list"
   ]
  },
  {
   "cell_type": "code",
   "execution_count": 563,
   "metadata": {},
   "outputs": [],
   "source": [
    "accuracy_vdm = start_knn_k_fold(tic_tac, predict_vdm)\n",
    "accuracy_vdm2 = start_knn_k_fold(car_evaluation, predict_vdm)"
   ]
  },
  {
   "cell_type": "code",
   "execution_count": 564,
   "metadata": {},
   "outputs": [
    {
     "data": {
      "image/png": "[encoded data removed]",
      "text/plain": [
       "<matplotlib.figure.Figure at 0x11bcd9358>"
      ]
     },
     "metadata": {},
     "output_type": "display_data"
    }
   ],
   "source": [
    "f = plt.figure(figsize=(12,5))\n",
    "ax = f.add_subplot(121)\n",
    "ax2 = f.add_subplot(122)\n",
    "plot_(accuracy_vdm, ax)\n",
    "plot_(accuracy_vdm2, ax2)\n",
    "plt.show()"
   ]
  },
  {
   "cell_type": "markdown",
   "metadata": {},
   "source": [
    "# Questão 3\n",
    "\n",
    "# KNN com dados heterogêneos"
   ]
  },
  {
   "cell_type": "code",
   "execution_count": 565,
   "metadata": {},
   "outputs": [],
   "source": [
    "credit_approval = pd.read_csv('credit-screening.csv')\n",
    "tae = pd.read_csv('tae.csv')"
   ]
  },
  {
   "cell_type": "code",
   "execution_count": 566,
   "metadata": {},
   "outputs": [
    {
     "name": "stdout",
     "output_type": "stream",
     "text": [
      "A1      object\n",
      "A2     float64\n",
      "A3     float64\n",
      "A4      object\n",
      "A5      object\n",
      "A6      object\n",
      "A7      object\n",
      "A8     float64\n",
      "A9      object\n",
      "A10     object\n",
      "A11      int64\n",
      "A12     object\n",
      "A13     object\n",
      "A14    float64\n",
      "A15      int64\n",
      "A16      int64\n",
      "dtype: object\n"
     ]
    },
    {
     "data": {
      "text/html": [
       "<div>\n",
       "<style>\n",
       "    .dataframe thead tr:only-child th {\n",
       "        text-align: right;\n",
       "    }\n",
       "\n",
       "    .dataframe thead th {\n",
       "        text-align: left;\n",
       "    }\n",
       "\n",
       "    .dataframe tbody tr th {\n",
       "        vertical-align: top;\n",
       "    }\n",
       "</style>\n",
       "<table border=\"1\" class=\"dataframe\">\n",
       "  <thead>\n",
       "    <tr style=\"text-align: right;\">\n",
       "      <th></th>\n",
       "      <th>A1</th>\n",
       "      <th>A2</th>\n",
       "      <th>A3</th>\n",
       "      <th>A4</th>\n",
       "      <th>A5</th>\n",
       "      <th>A6</th>\n",
       "      <th>A7</th>\n",
       "      <th>A8</th>\n",
       "      <th>A9</th>\n",
       "      <th>A10</th>\n",
       "      <th>A11</th>\n",
       "      <th>A12</th>\n",
       "      <th>A13</th>\n",
       "      <th>A14</th>\n",
       "      <th>A15</th>\n",
       "      <th>A16</th>\n",
       "    </tr>\n",
       "  </thead>\n",
       "  <tbody>\n",
       "    <tr>\n",
       "      <th>0</th>\n",
       "      <td>b</td>\n",
       "      <td>30.83</td>\n",
       "      <td>0.000</td>\n",
       "      <td>u</td>\n",
       "      <td>g</td>\n",
       "      <td>w</td>\n",
       "      <td>v</td>\n",
       "      <td>1.25</td>\n",
       "      <td>t</td>\n",
       "      <td>t</td>\n",
       "      <td>1</td>\n",
       "      <td>f</td>\n",
       "      <td>g</td>\n",
       "      <td>202.0</td>\n",
       "      <td>0</td>\n",
       "      <td>0</td>\n",
       "    </tr>\n",
       "    <tr>\n",
       "      <th>1</th>\n",
       "      <td>a</td>\n",
       "      <td>58.67</td>\n",
       "      <td>4.460</td>\n",
       "      <td>u</td>\n",
       "      <td>g</td>\n",
       "      <td>q</td>\n",
       "      <td>h</td>\n",
       "      <td>3.04</td>\n",
       "      <td>t</td>\n",
       "      <td>t</td>\n",
       "      <td>6</td>\n",
       "      <td>f</td>\n",
       "      <td>g</td>\n",
       "      <td>43.0</td>\n",
       "      <td>560</td>\n",
       "      <td>0</td>\n",
       "    </tr>\n",
       "    <tr>\n",
       "      <th>2</th>\n",
       "      <td>a</td>\n",
       "      <td>24.50</td>\n",
       "      <td>0.500</td>\n",
       "      <td>u</td>\n",
       "      <td>g</td>\n",
       "      <td>q</td>\n",
       "      <td>h</td>\n",
       "      <td>1.50</td>\n",
       "      <td>t</td>\n",
       "      <td>f</td>\n",
       "      <td>0</td>\n",
       "      <td>f</td>\n",
       "      <td>g</td>\n",
       "      <td>280.0</td>\n",
       "      <td>824</td>\n",
       "      <td>0</td>\n",
       "    </tr>\n",
       "    <tr>\n",
       "      <th>3</th>\n",
       "      <td>b</td>\n",
       "      <td>27.83</td>\n",
       "      <td>1.540</td>\n",
       "      <td>u</td>\n",
       "      <td>g</td>\n",
       "      <td>w</td>\n",
       "      <td>v</td>\n",
       "      <td>3.75</td>\n",
       "      <td>t</td>\n",
       "      <td>t</td>\n",
       "      <td>5</td>\n",
       "      <td>t</td>\n",
       "      <td>g</td>\n",
       "      <td>100.0</td>\n",
       "      <td>3</td>\n",
       "      <td>0</td>\n",
       "    </tr>\n",
       "    <tr>\n",
       "      <th>4</th>\n",
       "      <td>b</td>\n",
       "      <td>20.17</td>\n",
       "      <td>5.625</td>\n",
       "      <td>u</td>\n",
       "      <td>g</td>\n",
       "      <td>w</td>\n",
       "      <td>v</td>\n",
       "      <td>1.71</td>\n",
       "      <td>t</td>\n",
       "      <td>f</td>\n",
       "      <td>0</td>\n",
       "      <td>f</td>\n",
       "      <td>s</td>\n",
       "      <td>120.0</td>\n",
       "      <td>0</td>\n",
       "      <td>0</td>\n",
       "    </tr>\n",
       "  </tbody>\n",
       "</table>\n",
       "</div>"
      ],
      "text/plain": [
       "  A1     A2     A3 A4 A5 A6 A7    A8 A9 A10  A11 A12 A13    A14  A15  A16\n",
       "0  b  30.83  0.000  u  g  w  v  1.25  t   t    1   f   g  202.0    0    0\n",
       "1  a  58.67  4.460  u  g  q  h  3.04  t   t    6   f   g   43.0  560    0\n",
       "2  a  24.50  0.500  u  g  q  h  1.50  t   f    0   f   g  280.0  824    0\n",
       "3  b  27.83  1.540  u  g  w  v  3.75  t   t    5   t   g  100.0    3    0\n",
       "4  b  20.17  5.625  u  g  w  v  1.71  t   f    0   f   s  120.0    0    0"
      ]
     },
     "execution_count": 566,
     "metadata": {},
     "output_type": "execute_result"
    }
   ],
   "source": [
    "credit_approval.replace('?',np.nan, inplace=True)\n",
    "\n",
    "credit_approval[['A2', 'A14']] = credit_approval[ ['A2', 'A14'] ].astype('float64')\n",
    "\n",
    "\n",
    "credit_approval['A16'] = credit_approval['A16'].astype('category').cat.codes\n",
    "credit_approval['A16'] = credit_approval['A16'].astype('int64')\n",
    "\n",
    "\n",
    "print(credit_approval.dtypes)\n",
    "credit_approval.head()"
   ]
  },
  {
   "cell_type": "code",
   "execution_count": 567,
   "metadata": {},
   "outputs": [
    {
     "name": "stdout",
     "output_type": "stream",
     "text": [
      "native english       object\n",
      "course instructor    object\n",
      "course               object\n",
      "season               object\n",
      "class size            int64\n",
      "class                 int64\n",
      "dtype: object\n"
     ]
    },
    {
     "data": {
      "text/html": [
       "<div>\n",
       "<style>\n",
       "    .dataframe thead tr:only-child th {\n",
       "        text-align: right;\n",
       "    }\n",
       "\n",
       "    .dataframe thead th {\n",
       "        text-align: left;\n",
       "    }\n",
       "\n",
       "    .dataframe tbody tr th {\n",
       "        vertical-align: top;\n",
       "    }\n",
       "</style>\n",
       "<table border=\"1\" class=\"dataframe\">\n",
       "  <thead>\n",
       "    <tr style=\"text-align: right;\">\n",
       "      <th></th>\n",
       "      <th>native english</th>\n",
       "      <th>course instructor</th>\n",
       "      <th>course</th>\n",
       "      <th>season</th>\n",
       "      <th>class size</th>\n",
       "      <th>class</th>\n",
       "    </tr>\n",
       "  </thead>\n",
       "  <tbody>\n",
       "    <tr>\n",
       "      <th>0</th>\n",
       "      <td>1</td>\n",
       "      <td>23</td>\n",
       "      <td>3</td>\n",
       "      <td>1</td>\n",
       "      <td>19</td>\n",
       "      <td>2</td>\n",
       "    </tr>\n",
       "    <tr>\n",
       "      <th>1</th>\n",
       "      <td>2</td>\n",
       "      <td>15</td>\n",
       "      <td>3</td>\n",
       "      <td>1</td>\n",
       "      <td>17</td>\n",
       "      <td>2</td>\n",
       "    </tr>\n",
       "    <tr>\n",
       "      <th>2</th>\n",
       "      <td>1</td>\n",
       "      <td>23</td>\n",
       "      <td>3</td>\n",
       "      <td>2</td>\n",
       "      <td>49</td>\n",
       "      <td>2</td>\n",
       "    </tr>\n",
       "    <tr>\n",
       "      <th>3</th>\n",
       "      <td>1</td>\n",
       "      <td>5</td>\n",
       "      <td>2</td>\n",
       "      <td>2</td>\n",
       "      <td>33</td>\n",
       "      <td>2</td>\n",
       "    </tr>\n",
       "    <tr>\n",
       "      <th>4</th>\n",
       "      <td>2</td>\n",
       "      <td>7</td>\n",
       "      <td>11</td>\n",
       "      <td>2</td>\n",
       "      <td>55</td>\n",
       "      <td>2</td>\n",
       "    </tr>\n",
       "  </tbody>\n",
       "</table>\n",
       "</div>"
      ],
      "text/plain": [
       "  native english course instructor course season  class size  class\n",
       "0              1                23      3      1          19      2\n",
       "1              2                15      3      1          17      2\n",
       "2              1                23      3      2          49      2\n",
       "3              1                 5      2      2          33      2\n",
       "4              2                 7     11      2          55      2"
      ]
     },
     "execution_count": 567,
     "metadata": {},
     "output_type": "execute_result"
    }
   ],
   "source": [
    "tae = tae.astype('object')\n",
    "tae['class size'] = tae['class size'].astype('int64')\n",
    "tae['class'] = tae['class'].astype('int64')\n",
    "tae['class'] = tae['class'].astype('category').cat.codes\n",
    "tae['class'] = tae['class'].astype('int64')\n",
    "print(tae.dtypes)\n",
    "tae.head()"
   ]
  },
  {
   "cell_type": "code",
   "execution_count": 568,
   "metadata": {},
   "outputs": [],
   "source": [
    "def HVDM(a,b,classes_list,N,l):\n",
    "    w = list(zip(a,b))\n",
    "    ret = 0\n",
    "\n",
    "    for i,(x,y) in enumerate(w):\n",
    "        if(pd.isnull(x) ^ pd.isnull(y)):\n",
    "            ret += 1\n",
    "        elif(pd.isnull(x) and pd.isnull(y)):\n",
    "            pass\n",
    "        elif(i in l):\n",
    "            ret += (abs(x - y)/ (l[i][0] - l[i][1]))**2\n",
    "        else:\n",
    "            ret += vdm(i, x, y, classes_list, N)**2\n",
    "\n",
    "            \n",
    "    return ret"
   ]
  },
  {
   "cell_type": "code",
   "execution_count": 569,
   "metadata": {},
   "outputs": [],
   "source": [
    "def predict_hvdm(k, X_train, y_train, X_test, y_test):\n",
    "    \n",
    "    df = pd.DataFrame(X_train)\n",
    "    N = foo(df, y_train)\n",
    "    classes_list = pd.Series(y_train).unique()\n",
    "    ret_list = []\n",
    "    \n",
    "    all_columns = list(df)\n",
    "    w = {}\n",
    "    \n",
    "    for i,val in enumerate(all_columns):\n",
    "        if(df[val].dtype.name == 'int64' or df[val].dtype.name == 'float64'):\n",
    "            w[i] = (df[val].max(), df[val].min())\n",
    "            \n",
    "    \n",
    "    for i, x in enumerate(X_test):\n",
    "        y1, y_weighted = knn(k, X_train, y_train, HVDM, x, classes_list, N, w)\n",
    "        ret_list.append((y1,y_weighted,y_test[i]))\n",
    "                        \n",
    "    return ret_list"
   ]
  },
  {
   "cell_type": "code",
   "execution_count": 570,
   "metadata": {},
   "outputs": [
    {
     "name": "stdout",
     "output_type": "stream",
     "text": [
      "native english       object\n",
      "course instructor    object\n",
      "course               object\n",
      "season               object\n",
      "class size            int64\n",
      "class                 int64\n",
      "dtype: object\n"
     ]
    }
   ],
   "source": [
    "accuracy_hvdm = start_knn_k_fold(tae.copy(), predict_hvdm)\n",
    "accuracy2_hvdm = start_knn_k_fold(credit_approval, predict_hvdm)"
   ]
  },
  {
   "cell_type": "code",
   "execution_count": 571,
   "metadata": {},
   "outputs": [
    {
     "data": {
      "image/png": "[encoded data removed]",
      "text/plain": [
       "<matplotlib.figure.Figure at 0x1184f3748>"
      ]
     },
     "metadata": {},
     "output_type": "display_data"
    }
   ],
   "source": [
    "f = plt.figure(figsize=(12,5))\n",
    "ax = f.add_subplot(121)\n",
    "ax2 = f.add_subplot(122)\n",
    "plot_(accuracy_hvdm, ax)\n",
    "plot_(accuracy2_hvdm,ax2)\n",
    "plt.show()"
   ]
  }
 ],
 "metadata": {
  "kernelspec": {
   "display_name": "Python 3",
   "language": "python",
   "name": "python3"
  },
  "language_info": {
   "codemirror_mode": {
    "name": "ipython",
    "version": 3
   },
   "file_extension": ".py",
   "mimetype": "text/x-python",
   "name": "python",
   "nbconvert_exporter": "python",
   "pygments_lexer": "ipython3",
   "version": "3.6.1"
  }
 },
 "nbformat": 4,
 "nbformat_minor": 2
}
